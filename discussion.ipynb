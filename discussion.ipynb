{
 "cells": [
  {
   "cell_type": "code",
   "execution_count": null,
   "id": "44038496",
   "metadata": {},
   "outputs": [],
   "source": [
    "import pandas as pd\n",
    "import numpy as np"
   ]
  },
  {
   "cell_type": "markdown",
   "id": "85395b70",
   "metadata": {},
   "source": [
    "# Discussion 4\n",
    "\n",
    "### Announcements:\n",
    "- Lab 4 due Monday (2/5) Dylan suggests start early and start with Q9 :) \n",
    "- Gradescope reflection due Thursday (2/1)\n",
    "\n",
    "**Deadline shifts**\n",
    "- Project 2 checkpoint due Tues (2/6) and will be short\n",
    "- Project 2 will be due Tues (2/13)\n",
    "    - You can use up to **3** slip days on Project 2\n",
    "- Students will get an additional slip day to use for a total of 7\n"
   ]
  },
  {
   "cell_type": "markdown",
   "id": "33e0f33f",
   "metadata": {},
   "source": [
    "## iloc v.s. loc\n",
    "\n",
    "As a quick recap, let's look at the difference between `iloc` and `loc`. Basically, these two functions will give you a subset of a DataFrame or Series, but for today we will focus on Series.\n",
    "\n",
    "`iloc` is positional indexing. This means it **doesn't** look at the actual index values, but rather only where they're positioned within the Series.\n",
    "\n",
    "`loc` is label-based indexing. This means it **does** look at the actual index values, and selects based on the values."
   ]
  },
  {
   "cell_type": "code",
   "execution_count": null,
   "id": "b7fd0555",
   "metadata": {},
   "outputs": [],
   "source": [
    "s = pd.Series(range(5))\n",
    "s_odd = pd.Series(range(5), index=pd.Index([1, 3, 5, 7, 9]))\n",
    "s_float = s_odd.copy()\n",
    "s_float.index = s_float.index.astype('float')\n",
    "s_str = pd.Series(range(5), index=pd.Index([\"A\", \"B\", \"C\", \"D\", \"E\"]))"
   ]
  },
  {
   "cell_type": "code",
   "execution_count": null,
   "id": "c2c4fb2d",
   "metadata": {
    "scrolled": true
   },
   "outputs": [],
   "source": [
    "print(\"\\033[1m\\ts: \\n\\033[0m\" + str(s_odd)) \n",
    "print(\"\\033[1m\\ts[3]: \\n\\033[0m\" + str(s_odd.iloc[3]))\n",
    "print(\"\\033[1m\\ts[1:3]: \\n\\033[0m\" + str(s_odd.iloc[1:3]))"
   ]
  },
  {
   "cell_type": "code",
   "execution_count": null,
   "id": "8977f01b",
   "metadata": {},
   "outputs": [],
   "source": [
    "print(\"\\033[1m\\ts_odd: \\n\\033[0m\" + str(s_odd)) \n",
    "print(\"\\033[1m\\ts_odd[3]: \\n\\033[0m\" + str(s_odd.loc[3]))\n",
    "print(\"\\033[1m\\ts_odd[1:3]: \\n\\033[0m\" + str(s_odd.loc[1:3]))"
   ]
  },
  {
   "cell_type": "code",
   "execution_count": null,
   "id": "48a312f8",
   "metadata": {},
   "outputs": [],
   "source": [
    "print(\"\\033[1m\\ts_str: \\n\\033[0m\" + str(s_str)) \n",
    "print(\"\\033[1m\\ts_str[3]: \\n\\033[0m\" + str(s_str.iloc[3]))\n",
    "print(\"\\033[1m\\ts_str[1:3]: \\n\\033[0m\" + str(s_str.iloc[1:3]))"
   ]
  },
  {
   "cell_type": "code",
   "execution_count": null,
   "id": "836f19bd",
   "metadata": {},
   "outputs": [],
   "source": [
    "print(\"\\033[1m\\ts_str: \\n\\033[0m\" + str(s_str)) \n",
    "print(\"\\033[1m\\ts_str[3]: \\n\\033[0m\" + str(s_str.loc[\"A\"])) # error!\n",
    "print(\"\\033[1m\\ts_str[1:3]: \\n\\033[0m\" + str(s_str.loc[1:3]))"
   ]
  },
  {
   "cell_type": "markdown",
   "id": "ecfd6ba4",
   "metadata": {},
   "source": [
    "## Weird Index stuff!\n",
    "\n",
    "Going back to lab 2, you may recall we had this note on question 3 for the `most_common()` function:\n",
    "\n",
    " ***Note***: *Remember, to access values in a Series based on their integer position, including when slicing for the first `N` values in a Series, you **must** use `.iloc` followed by square brackets. If you just use square brackets and don't use `.iloc`, you may not see the results you expect!*\n",
    "\n",
    "The reason for this is that directly slicing with `series[range of values]` can sometimes lead to unexpected behavior! Let's investigate some below.\n",
    "\n",
    "*rule of thumb: if you ever have to select twice (`series[a][b]`) or you select a given range (`series[a:b]`), you may be at risk of weird behaviors and should double check your ouptput is as expected*. "
   ]
  },
  {
   "cell_type": "code",
   "execution_count": null,
   "id": "f2c854e0",
   "metadata": {},
   "outputs": [],
   "source": [
    "print(s) # \"regular\" series\n",
    "print()\n",
    "print(s_odd) # only odd index values\n",
    "print()\n",
    "print(s_float) # only odd index values\n",
    "print()\n",
    "print(s_str) # string index values"
   ]
  },
  {
   "cell_type": "code",
   "execution_count": null,
   "id": "41153c56",
   "metadata": {},
   "outputs": [],
   "source": [
    "print(\"\\033[1m\\ts: \\n\\033[0m\" + str(s)) \n",
    "print(\"\\033[1m\\ts[3]: \\n\\033[0m\" + str(s[3]))\n",
    "print(\"\\033[1m\\ts[1:3]: \\n\\033[0m\" + str(s[1:3]))"
   ]
  },
  {
   "cell_type": "code",
   "execution_count": null,
   "id": "913fd0ab",
   "metadata": {},
   "outputs": [],
   "source": [
    "print(\"\\033[1m\\ts_odd: \\n\\033[0m\" + str(s_odd))\n",
    "print(\"\\033[1m\\ts_odd[3]: \\n\\033[0m\" + str(s_odd[3])) # Value-based indexing\n",
    "print(\"\\033[1m\\ts_odd[1:3]: \\n\\033[0m\" + str(s_odd[1:3])) # Positional indexing"
   ]
  },
  {
   "cell_type": "code",
   "execution_count": null,
   "id": "dbd42213",
   "metadata": {
    "scrolled": true
   },
   "outputs": [],
   "source": [
    "print(\"\\033[1m\\ts_float: \\n\\033[0m\" + str(s_float)) \n",
    "print(\"\\033[1m\\ts_float[3]: \\n\\033[0m\" + str(s_float[3])) # Value-based indexing\n",
    "print(\"\\033[1m\\ts_float[1:3]: \\n\\033[0m\" + str(s_float[1:3])) # Value-based indexing"
   ]
  },
  {
   "cell_type": "code",
   "execution_count": null,
   "id": "f6a2c0ea",
   "metadata": {},
   "outputs": [],
   "source": [
    "print(\"\\033[1m\\ts_str: \\n\\033[0m\" + str(s_str)) \n",
    "print(\"\\033[1m\\ts_str[3]: \\n\\033[0m\" + str(s_str[3])) # Positional based\n",
    "print(\"\\033[1m\\ts_str[1:3]: \\n\\033[0m\" + str(s_str[1:3])) # Positional based"
   ]
  },
  {
   "cell_type": "code",
   "execution_count": null,
   "id": "29a4fc19",
   "metadata": {},
   "outputs": [],
   "source": [
    "from random import shuffle\n",
    "\n",
    "shuffle(s)\n",
    "s"
   ]
  },
  {
   "cell_type": "code",
   "execution_count": null,
   "id": "4363b239",
   "metadata": {},
   "outputs": [],
   "source": [
    "shuffle(s_str)\n",
    "s_str"
   ]
  },
  {
   "cell_type": "code",
   "execution_count": null,
   "id": "535478d9",
   "metadata": {},
   "outputs": [],
   "source": [
    "shuffle(s_odd)\n",
    "s_odd"
   ]
  },
  {
   "cell_type": "code",
   "execution_count": null,
   "id": "0450506b",
   "metadata": {},
   "outputs": [],
   "source": []
  }
 ],
 "metadata": {
  "kernelspec": {
   "display_name": "Python 3 (ipykernel)",
   "language": "python",
   "name": "python3"
  },
  "language_info": {
   "codemirror_mode": {
    "name": "ipython",
    "version": 3
   },
   "file_extension": ".py",
   "mimetype": "text/x-python",
   "name": "python",
   "nbconvert_exporter": "python",
   "pygments_lexer": "ipython3",
   "version": "3.8.18"
  }
 },
 "nbformat": 4,
 "nbformat_minor": 5
}
